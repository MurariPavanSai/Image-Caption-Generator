{
  "cells": [
    {
      "cell_type": "markdown",
      "metadata": {
        "id": "view-in-github",
        "colab_type": "text"
      },
      "source": [
        "<a href=\"https://colab.research.google.com/github/MurariPavanSai/Image-Caption-Generator/blob/main/image_caption.ipynb\" target=\"_parent\"><img src=\"https://colab.research.google.com/assets/colab-badge.svg\" alt=\"Open In Colab\"/></a>"
      ]
    },
    {
      "cell_type": "markdown",
      "metadata": {
        "id": "x_ZTAfy3YXf6"
      },
      "source": [
        "**IMPORT MODULES**"
      ]
    },
    {
      "cell_type": "code",
      "execution_count": null,
      "metadata": {
        "id": "JdGOzJ0uYXf-",
        "outputId": "79726098-da0d-4fe8-88e4-264a2cfbc60b"
      },
      "outputs": [
        {
          "name": "stdout",
          "output_type": "stream",
          "text": [
            "Collecting tensorflow-gpu\n",
            "  Downloading tensorflow-gpu-2.12.0.tar.gz (2.6 kB)\n",
            "Collecting python_version>\"3.7\"\n",
            "  Downloading python_version-0.0.2-py2.py3-none-any.whl (3.4 kB)\n",
            "Building wheels for collected packages: tensorflow-gpu\n",
            "  Building wheel for tensorflow-gpu (setup.py): started\n",
            "  Building wheel for tensorflow-gpu (setup.py): finished with status 'error'\n",
            "  Running setup.py clean for tensorflow-gpu\n",
            "Failed to build tensorflow-gpu\n",
            "Installing collected packages: python-version, tensorflow-gpu\n",
            "    Running setup.py install for tensorflow-gpu: started\n",
            "    Running setup.py install for tensorflow-gpu: finished with status 'error'\n"
          ]
        },
        {
          "name": "stderr",
          "output_type": "stream",
          "text": [
            "  ERROR: Command errored out with exit status 1:\n",
            "   command: 'C:\\Users\\pavan\\anaconda3\\python.exe' -u -c 'import sys, setuptools, tokenize; sys.argv[0] = '\"'\"'C:\\\\Users\\\\pavan\\\\AppData\\\\Local\\\\Temp\\\\pip-install-8_ws91uu\\\\tensorflow-gpu_defb26070dac4ce699ea0170391adb8a\\\\setup.py'\"'\"'; __file__='\"'\"'C:\\\\Users\\\\pavan\\\\AppData\\\\Local\\\\Temp\\\\pip-install-8_ws91uu\\\\tensorflow-gpu_defb26070dac4ce699ea0170391adb8a\\\\setup.py'\"'\"';f=getattr(tokenize, '\"'\"'open'\"'\"', open)(__file__);code=f.read().replace('\"'\"'\\r\\n'\"'\"', '\"'\"'\\n'\"'\"');f.close();exec(compile(code, __file__, '\"'\"'exec'\"'\"'))' bdist_wheel -d 'C:\\Users\\pavan\\AppData\\Local\\Temp\\pip-wheel-67mhehr_'\n",
            "       cwd: C:\\Users\\pavan\\AppData\\Local\\Temp\\pip-install-8_ws91uu\\tensorflow-gpu_defb26070dac4ce699ea0170391adb8a\\\n",
            "  Complete output (17 lines):\n",
            "  Traceback (most recent call last):\n",
            "    File \"<string>\", line 1, in <module>\n",
            "    File \"C:\\Users\\pavan\\AppData\\Local\\Temp\\pip-install-8_ws91uu\\tensorflow-gpu_defb26070dac4ce699ea0170391adb8a\\setup.py\", line 37, in <module>\n",
            "      raise Exception(TF_REMOVAL_WARNING)\n",
            "  Exception:\n",
            "  \n",
            "  =========================================================\n",
            "  The \"tensorflow-gpu\" package has been removed!\n",
            "  \n",
            "  Please install \"tensorflow\" instead.\n",
            "  \n",
            "  Other than the name, the two packages have been identical\n",
            "  since TensorFlow 2.1, or roughly since Sep 2019. For more\n",
            "  information, see: pypi.org/project/tensorflow-gpu\n",
            "  =========================================================\n",
            "  \n",
            "  \n",
            "  ----------------------------------------\n",
            "  ERROR: Failed building wheel for tensorflow-gpu\n",
            "    ERROR: Command errored out with exit status 1:\n",
            "     command: 'C:\\Users\\pavan\\anaconda3\\python.exe' -u -c 'import sys, setuptools, tokenize; sys.argv[0] = '\"'\"'C:\\\\Users\\\\pavan\\\\AppData\\\\Local\\\\Temp\\\\pip-install-8_ws91uu\\\\tensorflow-gpu_defb26070dac4ce699ea0170391adb8a\\\\setup.py'\"'\"'; __file__='\"'\"'C:\\\\Users\\\\pavan\\\\AppData\\\\Local\\\\Temp\\\\pip-install-8_ws91uu\\\\tensorflow-gpu_defb26070dac4ce699ea0170391adb8a\\\\setup.py'\"'\"';f=getattr(tokenize, '\"'\"'open'\"'\"', open)(__file__);code=f.read().replace('\"'\"'\\r\\n'\"'\"', '\"'\"'\\n'\"'\"');f.close();exec(compile(code, __file__, '\"'\"'exec'\"'\"'))' install --record 'C:\\Users\\pavan\\AppData\\Local\\Temp\\pip-record-5aa0nure\\install-record.txt' --single-version-externally-managed --compile --install-headers 'C:\\Users\\pavan\\anaconda3\\Include\\tensorflow-gpu'\n",
            "         cwd: C:\\Users\\pavan\\AppData\\Local\\Temp\\pip-install-8_ws91uu\\tensorflow-gpu_defb26070dac4ce699ea0170391adb8a\\\n",
            "    Complete output (17 lines):\n",
            "    Traceback (most recent call last):\n",
            "      File \"<string>\", line 1, in <module>\n",
            "      File \"C:\\Users\\pavan\\AppData\\Local\\Temp\\pip-install-8_ws91uu\\tensorflow-gpu_defb26070dac4ce699ea0170391adb8a\\setup.py\", line 37, in <module>\n",
            "        raise Exception(TF_REMOVAL_WARNING)\n",
            "    Exception:\n",
            "    \n",
            "    =========================================================\n",
            "    The \"tensorflow-gpu\" package has been removed!\n",
            "    \n",
            "    Please install \"tensorflow\" instead.\n",
            "    \n",
            "    Other than the name, the two packages have been identical\n",
            "    since TensorFlow 2.1, or roughly since Sep 2019. For more\n",
            "    information, see: pypi.org/project/tensorflow-gpu\n",
            "    =========================================================\n",
            "    \n",
            "    \n",
            "    ----------------------------------------\n",
            "ERROR: Command errored out with exit status 1: 'C:\\Users\\pavan\\anaconda3\\python.exe' -u -c 'import sys, setuptools, tokenize; sys.argv[0] = '\"'\"'C:\\\\Users\\\\pavan\\\\AppData\\\\Local\\\\Temp\\\\pip-install-8_ws91uu\\\\tensorflow-gpu_defb26070dac4ce699ea0170391adb8a\\\\setup.py'\"'\"'; __file__='\"'\"'C:\\\\Users\\\\pavan\\\\AppData\\\\Local\\\\Temp\\\\pip-install-8_ws91uu\\\\tensorflow-gpu_defb26070dac4ce699ea0170391adb8a\\\\setup.py'\"'\"';f=getattr(tokenize, '\"'\"'open'\"'\"', open)(__file__);code=f.read().replace('\"'\"'\\r\\n'\"'\"', '\"'\"'\\n'\"'\"');f.close();exec(compile(code, __file__, '\"'\"'exec'\"'\"'))' install --record 'C:\\Users\\pavan\\AppData\\Local\\Temp\\pip-record-5aa0nure\\install-record.txt' --single-version-externally-managed --compile --install-headers 'C:\\Users\\pavan\\anaconda3\\Include\\tensorflow-gpu' Check the logs for full command output.\n"
          ]
        },
        {
          "data": {
            "text/plain": [
              "[]"
            ]
          },
          "execution_count": 1,
          "metadata": {},
          "output_type": "execute_result"
        }
      ],
      "source": [
        "!pip install tensorflow-gpu\n",
        "import tensorflow as tf\n",
        "tf.config.experimental.list_physical_devices('GPU')"
      ]
    },
    {
      "cell_type": "code",
      "execution_count": null,
      "metadata": {
        "execution": {
          "iopub.execute_input": "2023-09-02T14:28:54.290307Z",
          "iopub.status.busy": "2023-09-02T14:28:54.289930Z",
          "iopub.status.idle": "2023-09-02T14:28:54.381854Z",
          "shell.execute_reply": "2023-09-02T14:28:54.380940Z",
          "shell.execute_reply.started": "2023-09-02T14:28:54.290276Z"
        },
        "id": "zDG8SUmyYXgA"
      },
      "outputs": [],
      "source": [
        "import os\n",
        "import pickle\n",
        "import numpy as np\n",
        "from tqdm.notebook import tqdm\n",
        "\n",
        "from tensorflow.keras.applications.vgg16 import VGG16, preprocess_input\n",
        "from tensorflow.keras.preprocessing.image import load_img, img_to_array\n",
        "from tensorflow.keras.preprocessing.text import Tokenizer\n",
        "from tensorflow.keras.preprocessing.sequence import pad_sequences\n",
        "from tensorflow.keras.models import Model\n",
        "from tensorflow.keras.utils import to_categorical, plot_model\n",
        "from tensorflow.keras.layers import Input, Dense, LSTM, Embedding, Dropout, add"
      ]
    },
    {
      "cell_type": "code",
      "execution_count": null,
      "metadata": {
        "execution": {
          "iopub.execute_input": "2023-09-02T14:30:03.281956Z",
          "iopub.status.busy": "2023-09-02T14:30:03.281074Z",
          "iopub.status.idle": "2023-09-02T14:30:03.286856Z",
          "shell.execute_reply": "2023-09-02T14:30:03.285821Z",
          "shell.execute_reply.started": "2023-09-02T14:30:03.281912Z"
        },
        "id": "vjzlzaXOYXgB"
      },
      "outputs": [],
      "source": [
        "BASE_DIR = 'C:\\\\Users\\\\pavan\\\\Downloads\\\\image_caption_generator-main'\n",
        "WORKING_DIR = 'C:\\\\Users\\\\pavan\\\\Downloads\\\\image_caption_generator-main\\\\image_caption_generator-main'"
      ]
    },
    {
      "cell_type": "markdown",
      "metadata": {
        "id": "U4r8d2TFYXgB"
      },
      "source": [
        "**EXTRACTING IMAGE FEATURES**"
      ]
    },
    {
      "cell_type": "code",
      "execution_count": null,
      "metadata": {
        "execution": {
          "iopub.execute_input": "2023-09-02T14:32:12.860038Z",
          "iopub.status.busy": "2023-09-02T14:32:12.859642Z",
          "iopub.status.idle": "2023-09-02T14:32:15.045354Z",
          "shell.execute_reply": "2023-09-02T14:32:15.044642Z",
          "shell.execute_reply.started": "2023-09-02T14:32:12.859995Z"
        },
        "id": "5wKcCQxjYXgB",
        "outputId": "fe807648-2818-4a81-cdbb-043314e65bb5"
      },
      "outputs": [
        {
          "name": "stdout",
          "output_type": "stream",
          "text": [
            "Model: \"model\"\n",
            "_________________________________________________________________\n",
            " Layer (type)                Output Shape              Param #   \n",
            "=================================================================\n",
            " input_1 (InputLayer)        [(None, 224, 224, 3)]     0         \n",
            "                                                                 \n",
            " block1_conv1 (Conv2D)       (None, 224, 224, 64)      1792      \n",
            "                                                                 \n",
            " block1_conv2 (Conv2D)       (None, 224, 224, 64)      36928     \n",
            "                                                                 \n",
            " block1_pool (MaxPooling2D)  (None, 112, 112, 64)      0         \n",
            "                                                                 \n",
            " block2_conv1 (Conv2D)       (None, 112, 112, 128)     73856     \n",
            "                                                                 \n",
            " block2_conv2 (Conv2D)       (None, 112, 112, 128)     147584    \n",
            "                                                                 \n",
            " block2_pool (MaxPooling2D)  (None, 56, 56, 128)       0         \n",
            "                                                                 \n",
            " block3_conv1 (Conv2D)       (None, 56, 56, 256)       295168    \n",
            "                                                                 \n",
            " block3_conv2 (Conv2D)       (None, 56, 56, 256)       590080    \n",
            "                                                                 \n",
            " block3_conv3 (Conv2D)       (None, 56, 56, 256)       590080    \n",
            "                                                                 \n",
            " block3_pool (MaxPooling2D)  (None, 28, 28, 256)       0         \n",
            "                                                                 \n",
            " block4_conv1 (Conv2D)       (None, 28, 28, 512)       1180160   \n",
            "                                                                 \n",
            " block4_conv2 (Conv2D)       (None, 28, 28, 512)       2359808   \n",
            "                                                                 \n",
            " block4_conv3 (Conv2D)       (None, 28, 28, 512)       2359808   \n",
            "                                                                 \n",
            " block4_pool (MaxPooling2D)  (None, 14, 14, 512)       0         \n",
            "                                                                 \n",
            " block5_conv1 (Conv2D)       (None, 14, 14, 512)       2359808   \n",
            "                                                                 \n",
            " block5_conv2 (Conv2D)       (None, 14, 14, 512)       2359808   \n",
            "                                                                 \n",
            " block5_conv3 (Conv2D)       (None, 14, 14, 512)       2359808   \n",
            "                                                                 \n",
            " block5_pool (MaxPooling2D)  (None, 7, 7, 512)         0         \n",
            "                                                                 \n",
            " flatten (Flatten)           (None, 25088)             0         \n",
            "                                                                 \n",
            " fc1 (Dense)                 (None, 4096)              102764544 \n",
            "                                                                 \n",
            " fc2 (Dense)                 (None, 4096)              16781312  \n",
            "                                                                 \n",
            "=================================================================\n",
            "Total params: 134,260,544\n",
            "Trainable params: 134,260,544\n",
            "Non-trainable params: 0\n",
            "_________________________________________________________________\n",
            "None\n"
          ]
        }
      ],
      "source": [
        "#load vgg16\n",
        "model = VGG16()\n",
        "#restructuring model\n",
        "model = Model(inputs=model.inputs, outputs=model.layers[-2].output)\n",
        "#summarize\n",
        "print(model.summary())"
      ]
    },
    {
      "cell_type": "code",
      "execution_count": null,
      "metadata": {
        "execution": {
          "iopub.execute_input": "2023-09-02T14:59:27.357699Z",
          "iopub.status.busy": "2023-09-02T14:59:27.357022Z",
          "iopub.status.idle": "2023-09-02T15:10:28.775109Z",
          "shell.execute_reply": "2023-09-02T15:10:28.774168Z",
          "shell.execute_reply.started": "2023-09-02T14:59:27.357662Z"
        },
        "id": "H5kK-kw8YXgC",
        "outputId": "f8f6b092-20c9-4e79-87aa-5aa4eaa70a38",
        "colab": {
          "referenced_widgets": [
            "f36129a3bc65481f88175d8650ad0731"
          ]
        }
      },
      "outputs": [
        {
          "data": {
            "application/vnd.jupyter.widget-view+json": {
              "model_id": "f36129a3bc65481f88175d8650ad0731",
              "version_major": 2,
              "version_minor": 0
            },
            "text/plain": [
              "  0%|          | 0/8091 [00:00<?, ?it/s]"
            ]
          },
          "metadata": {},
          "output_type": "display_data"
        }
      ],
      "source": [
        "# extract features from image\n",
        "features = {}\n",
        "directory = os.path.join(BASE_DIR, 'Images')\n",
        "\n",
        "for img_name in tqdm(os.listdir(directory)):\n",
        "    # load the image from file\n",
        "    img_path = directory + '/' + img_name\n",
        "    image = load_img(img_path, target_size=(224, 224))\n",
        "    # convert image pixels to numpy array\n",
        "    image = img_to_array(image)\n",
        "    # reshape data for model\n",
        "    image = image.reshape((1, image.shape[0], image.shape[1], image.shape[2]))\n",
        "    # preprocess image for vgg\n",
        "    image = preprocess_input(image)\n",
        "    # extract features\n",
        "    feature = model.predict(image, verbose=0)\n",
        "    # get image ID\n",
        "    image_id = img_name.split('.')[0]\n",
        "    # store feature\n",
        "    features[image_id] = feature"
      ]
    },
    {
      "cell_type": "code",
      "execution_count": null,
      "metadata": {
        "execution": {
          "iopub.execute_input": "2023-09-02T15:10:57.799202Z",
          "iopub.status.busy": "2023-09-02T15:10:57.798751Z",
          "iopub.status.idle": "2023-09-02T15:10:58.074644Z",
          "shell.execute_reply": "2023-09-02T15:10:58.073593Z",
          "shell.execute_reply.started": "2023-09-02T15:10:57.799161Z"
        },
        "id": "xxwL9XHQYXgD"
      },
      "outputs": [],
      "source": [
        "pickle.dump(features, open(os.path.join(WORKING_DIR, 'features.pkl'), 'wb'))"
      ]
    },
    {
      "cell_type": "code",
      "execution_count": null,
      "metadata": {
        "execution": {
          "iopub.execute_input": "2023-09-02T15:10:58.274047Z",
          "iopub.status.busy": "2023-09-02T15:10:58.273704Z",
          "iopub.status.idle": "2023-09-02T15:10:58.433486Z",
          "shell.execute_reply": "2023-09-02T15:10:58.432333Z",
          "shell.execute_reply.started": "2023-09-02T15:10:58.274016Z"
        },
        "id": "tq-f9GRYYXgD"
      },
      "outputs": [],
      "source": [
        "# load features from pickle\n",
        "with open(os.path.join(WORKING_DIR, 'features.pkl'), 'rb') as f:\n",
        "    features = pickle.load(f)"
      ]
    },
    {
      "cell_type": "markdown",
      "metadata": {
        "id": "XeTHDeLWYXgD"
      },
      "source": []
    },
    {
      "cell_type": "code",
      "execution_count": null,
      "metadata": {
        "execution": {
          "iopub.execute_input": "2023-09-02T15:10:59.692688Z",
          "iopub.status.busy": "2023-09-02T15:10:59.692015Z",
          "iopub.status.idle": "2023-09-02T15:10:59.754475Z",
          "shell.execute_reply": "2023-09-02T15:10:59.753443Z",
          "shell.execute_reply.started": "2023-09-02T15:10:59.692652Z"
        },
        "id": "Twx1O6kLYXgE"
      },
      "outputs": [],
      "source": [
        "with open(os.path.join(BASE_DIR, 'captions.txt'), 'r') as f:\n",
        "    next(f)\n",
        "    captions_doc = f.read()"
      ]
    },
    {
      "cell_type": "code",
      "execution_count": null,
      "metadata": {
        "execution": {
          "iopub.execute_input": "2023-09-02T15:11:00.912719Z",
          "iopub.status.busy": "2023-09-02T15:11:00.912366Z",
          "iopub.status.idle": "2023-09-02T15:11:01.059522Z",
          "shell.execute_reply": "2023-09-02T15:11:01.058344Z",
          "shell.execute_reply.started": "2023-09-02T15:11:00.912689Z"
        },
        "id": "EfncVNesYXgE"
      },
      "outputs": [],
      "source": [
        "# create mapping of image to captions\n",
        "mapping = {}\n",
        "# process lines\n",
        "for line in tqdm(captions_doc.split('\\n')):\n",
        "    # split the line by comma(,)\n",
        "    tokens = line.split(',')\n",
        "    if len(line) < 2:\n",
        "        continue\n",
        "    image_id, caption = tokens[0], tokens[1:]\n",
        "    # remove extension from image ID\n",
        "    image_id = image_id.split('.')[0]\n",
        "    # convert caption list to string\n",
        "    caption = \" \".join(caption)\n",
        "    # create list if needed\n",
        "    if image_id not in mapping:\n",
        "        mapping[image_id] = []\n",
        "    # store the caption\n",
        "    mapping[image_id].append(caption)"
      ]
    },
    {
      "cell_type": "code",
      "execution_count": null,
      "metadata": {
        "execution": {
          "iopub.execute_input": "2023-09-02T15:11:01.547886Z",
          "iopub.status.busy": "2023-09-02T15:11:01.547510Z",
          "iopub.status.idle": "2023-09-02T15:11:01.554731Z",
          "shell.execute_reply": "2023-09-02T15:11:01.553802Z",
          "shell.execute_reply.started": "2023-09-02T15:11:01.547843Z"
        },
        "id": "Nx1dlQZeYXgE"
      },
      "outputs": [],
      "source": [
        "len(mapping)"
      ]
    },
    {
      "cell_type": "markdown",
      "metadata": {
        "id": "KqloSLxlYXgE"
      },
      "source": [
        "**PREPROCESS TEXT DATA**"
      ]
    },
    {
      "cell_type": "code",
      "execution_count": null,
      "metadata": {
        "execution": {
          "iopub.execute_input": "2023-09-02T15:11:02.694897Z",
          "iopub.status.busy": "2023-09-02T15:11:02.694533Z",
          "iopub.status.idle": "2023-09-02T15:11:02.702387Z",
          "shell.execute_reply": "2023-09-02T15:11:02.701181Z",
          "shell.execute_reply.started": "2023-09-02T15:11:02.694866Z"
        },
        "id": "SwtyckvEYXgE"
      },
      "outputs": [],
      "source": [
        "def clean(mapping):\n",
        "    for key, captions in mapping.items():\n",
        "        for i in range(len(captions)):\n",
        "            # take one caption at a time\n",
        "            caption = captions[i]\n",
        "            # preprocessing steps\n",
        "            # convert to lowercase\n",
        "            caption = caption.lower()\n",
        "            # delete digits, special chars, etc.,\n",
        "            caption = caption.replace('[^A-Za-z]', '')\n",
        "            # delete additional spaces\n",
        "            caption = caption.replace('\\s+', ' ')\n",
        "            # add start and end tags to the caption\n",
        "            caption = 'startseq ' + \" \".join([word for word in caption.split() if len(word)>1]) + ' endseq'\n",
        "            captions[i] = caption"
      ]
    },
    {
      "cell_type": "code",
      "execution_count": null,
      "metadata": {
        "execution": {
          "iopub.execute_input": "2023-09-02T15:11:03.209989Z",
          "iopub.status.busy": "2023-09-02T15:11:03.208823Z",
          "iopub.status.idle": "2023-09-02T15:11:03.218704Z",
          "shell.execute_reply": "2023-09-02T15:11:03.217675Z",
          "shell.execute_reply.started": "2023-09-02T15:11:03.209945Z"
        },
        "id": "6Qv44RP6YXgF"
      },
      "outputs": [],
      "source": [
        "# before preprocess of text\n",
        "mapping['1000268201_693b08cb0e']"
      ]
    },
    {
      "cell_type": "code",
      "execution_count": null,
      "metadata": {
        "execution": {
          "iopub.execute_input": "2023-09-02T15:11:03.661077Z",
          "iopub.status.busy": "2023-09-02T15:11:03.660723Z",
          "iopub.status.idle": "2023-09-02T15:11:03.833977Z",
          "shell.execute_reply": "2023-09-02T15:11:03.832945Z",
          "shell.execute_reply.started": "2023-09-02T15:11:03.661047Z"
        },
        "id": "naPk-r69YXgF"
      },
      "outputs": [],
      "source": [
        "# preprocess the text\n",
        "clean(mapping)"
      ]
    },
    {
      "cell_type": "code",
      "execution_count": null,
      "metadata": {
        "execution": {
          "iopub.execute_input": "2023-09-02T15:11:04.517443Z",
          "iopub.status.busy": "2023-09-02T15:11:04.514846Z",
          "iopub.status.idle": "2023-09-02T15:11:04.528122Z",
          "shell.execute_reply": "2023-09-02T15:11:04.527114Z",
          "shell.execute_reply.started": "2023-09-02T15:11:04.517401Z"
        },
        "id": "1WzWnDHHYXgF"
      },
      "outputs": [],
      "source": [
        "mapping['1000268201_693b08cb0e']"
      ]
    },
    {
      "cell_type": "code",
      "execution_count": null,
      "metadata": {
        "execution": {
          "iopub.execute_input": "2023-09-02T15:11:04.686182Z",
          "iopub.status.busy": "2023-09-02T15:11:04.685404Z",
          "iopub.status.idle": "2023-09-02T15:11:04.712484Z",
          "shell.execute_reply": "2023-09-02T15:11:04.711095Z",
          "shell.execute_reply.started": "2023-09-02T15:11:04.686116Z"
        },
        "id": "ctBVCpbnYXgF"
      },
      "outputs": [],
      "source": [
        "all_captions = []\n",
        "for key in mapping:\n",
        "    for caption in mapping[key]:\n",
        "        all_captions.append(caption)"
      ]
    },
    {
      "cell_type": "code",
      "execution_count": null,
      "metadata": {
        "execution": {
          "iopub.execute_input": "2023-09-02T15:11:05.567907Z",
          "iopub.status.busy": "2023-09-02T15:11:05.567520Z",
          "iopub.status.idle": "2023-09-02T15:11:05.574318Z",
          "shell.execute_reply": "2023-09-02T15:11:05.573373Z",
          "shell.execute_reply.started": "2023-09-02T15:11:05.567865Z"
        },
        "id": "zNFez0fTYXgF"
      },
      "outputs": [],
      "source": [
        "len(all_captions)"
      ]
    },
    {
      "cell_type": "code",
      "execution_count": null,
      "metadata": {
        "execution": {
          "iopub.execute_input": "2023-09-02T15:11:06.460811Z",
          "iopub.status.busy": "2023-09-02T15:11:06.460455Z",
          "iopub.status.idle": "2023-09-02T15:11:06.467436Z",
          "shell.execute_reply": "2023-09-02T15:11:06.466413Z",
          "shell.execute_reply.started": "2023-09-02T15:11:06.460782Z"
        },
        "id": "1uGRimzEYXgF"
      },
      "outputs": [],
      "source": [
        "all_captions[:10]"
      ]
    },
    {
      "cell_type": "code",
      "execution_count": null,
      "metadata": {
        "execution": {
          "iopub.execute_input": "2023-09-02T15:11:07.287451Z",
          "iopub.status.busy": "2023-09-02T15:11:07.286013Z",
          "iopub.status.idle": "2023-09-02T15:11:08.013650Z",
          "shell.execute_reply": "2023-09-02T15:11:08.012630Z",
          "shell.execute_reply.started": "2023-09-02T15:11:07.287404Z"
        },
        "id": "sBgQOZB2YXgF"
      },
      "outputs": [],
      "source": [
        "# tokenize the text\n",
        "tokenizer = Tokenizer()\n",
        "tokenizer.fit_on_texts(all_captions)\n",
        "vocab_size = len(tokenizer.word_index) + 1"
      ]
    },
    {
      "cell_type": "code",
      "execution_count": null,
      "metadata": {
        "execution": {
          "iopub.execute_input": "2023-09-02T15:11:08.880502Z",
          "iopub.status.busy": "2023-09-02T15:11:08.879389Z",
          "iopub.status.idle": "2023-09-02T15:11:08.887271Z",
          "shell.execute_reply": "2023-09-02T15:11:08.886217Z",
          "shell.execute_reply.started": "2023-09-02T15:11:08.880463Z"
        },
        "id": "6XujC-fAYXgF"
      },
      "outputs": [],
      "source": [
        "vocab_size"
      ]
    },
    {
      "cell_type": "code",
      "execution_count": null,
      "metadata": {
        "execution": {
          "iopub.execute_input": "2023-09-02T15:11:09.879593Z",
          "iopub.status.busy": "2023-09-02T15:11:09.878912Z",
          "iopub.status.idle": "2023-09-02T15:11:09.923378Z",
          "shell.execute_reply": "2023-09-02T15:11:09.922538Z",
          "shell.execute_reply.started": "2023-09-02T15:11:09.879561Z"
        },
        "id": "prBWzv4LYXgG"
      },
      "outputs": [],
      "source": [
        "# get maximum length of the caption available\n",
        "max_length = max(len(caption.split()) for caption in all_captions)\n",
        "max_length"
      ]
    },
    {
      "cell_type": "markdown",
      "metadata": {
        "id": "1pgzHDMaYXgG"
      },
      "source": [
        "**Train Test Split**"
      ]
    },
    {
      "cell_type": "code",
      "execution_count": null,
      "metadata": {
        "execution": {
          "iopub.execute_input": "2023-09-02T15:11:11.682540Z",
          "iopub.status.busy": "2023-09-02T15:11:11.681396Z",
          "iopub.status.idle": "2023-09-02T15:11:11.689125Z",
          "shell.execute_reply": "2023-09-02T15:11:11.687929Z",
          "shell.execute_reply.started": "2023-09-02T15:11:11.682495Z"
        },
        "id": "aqVJlzE1YXgG"
      },
      "outputs": [],
      "source": [
        "image_ids = list(mapping.keys())\n",
        "split = int(len(image_ids) * 0.90)\n",
        "train = image_ids[:split]\n",
        "test = image_ids[split:]"
      ]
    },
    {
      "cell_type": "code",
      "execution_count": null,
      "metadata": {
        "execution": {
          "iopub.execute_input": "2023-09-02T15:11:13.118463Z",
          "iopub.status.busy": "2023-09-02T15:11:13.117339Z",
          "iopub.status.idle": "2023-09-02T15:11:13.128047Z",
          "shell.execute_reply": "2023-09-02T15:11:13.127062Z",
          "shell.execute_reply.started": "2023-09-02T15:11:13.118421Z"
        },
        "id": "YVBupTpDYXgG"
      },
      "outputs": [],
      "source": [
        "# create data generator to get data in batch (avoids session crash)\n",
        "def data_generator(data_keys, mapping, features, tokenizer, max_length, vocab_size, batch_size):\n",
        "    # loop over images\n",
        "    X1, X2, y = list(), list(), list()\n",
        "    n = 0\n",
        "    while 1:\n",
        "        for key in data_keys:\n",
        "            n += 1\n",
        "            captions = mapping[key]\n",
        "            # process each caption\n",
        "            for caption in captions:\n",
        "                # encode the sequence\n",
        "                seq = tokenizer.texts_to_sequences([caption])[0]\n",
        "                # split the sequence into X, y pairs\n",
        "                for i in range(1, len(seq)):\n",
        "                    # split into input and output pairs\n",
        "                    in_seq, out_seq = seq[:i], seq[i]\n",
        "                    # pad input sequence\n",
        "                    in_seq = pad_sequences([in_seq], maxlen=max_length)[0]\n",
        "                    # encode output sequence\n",
        "                    out_seq = to_categorical([out_seq], num_classes=vocab_size)[0]\n",
        "\n",
        "                    # store the sequences\n",
        "                    X1.append(features[key][0])\n",
        "                    X2.append(in_seq)\n",
        "                    y.append(out_seq)\n",
        "            if n == batch_size:\n",
        "                X1, X2, y = np.array(X1), np.array(X2), np.array(y)\n",
        "                yield [X1, X2], y\n",
        "                X1, X2, y = list(), list(), list()\n",
        "                n = 0"
      ]
    },
    {
      "cell_type": "markdown",
      "metadata": {
        "id": "EETS99DJYXgG"
      },
      "source": [
        "# Model Creation"
      ]
    },
    {
      "cell_type": "code",
      "execution_count": null,
      "metadata": {
        "execution": {
          "iopub.execute_input": "2023-09-02T15:11:51.954007Z",
          "iopub.status.busy": "2023-09-02T15:11:51.953627Z",
          "iopub.status.idle": "2023-09-02T15:11:53.328775Z",
          "shell.execute_reply": "2023-09-02T15:11:53.327812Z",
          "shell.execute_reply.started": "2023-09-02T15:11:51.953974Z"
        },
        "id": "KMld0GB7YXgG"
      },
      "outputs": [],
      "source": [
        "# encoder model\n",
        "# image feature layers\n",
        "inputs1 = Input(shape=(4096,))\n",
        "fe1 = Dropout(0.4)(inputs1)\n",
        "fe2 = Dense(256, activation='relu')(fe1)\n",
        "# sequence feature layers\n",
        "inputs2 = Input(shape=(max_length,))\n",
        "se1 = Embedding(vocab_size, 256, mask_zero=True)(inputs2)\n",
        "se2 = Dropout(0.4)(se1)\n",
        "se3 = LSTM(256)(se2)\n",
        "\n",
        "# decoder model\n",
        "decoder1 = add([fe2, se3])\n",
        "decoder2 = Dense(256, activation='relu')(decoder1)\n",
        "outputs = Dense(vocab_size, activation='softmax')(decoder2)\n",
        "\n",
        "model = Model(inputs=[inputs1, inputs2], outputs=outputs)\n",
        "model.compile(loss='categorical_crossentropy', optimizer='adam')\n",
        "\n",
        "# plot the model\n",
        "plot_model(model, show_shapes=True)"
      ]
    },
    {
      "cell_type": "code",
      "execution_count": null,
      "metadata": {
        "execution": {
          "iopub.execute_input": "2023-09-02T15:11:53.380642Z",
          "iopub.status.busy": "2023-09-02T15:11:53.380339Z",
          "iopub.status.idle": "2023-09-02T15:37:55.587938Z",
          "shell.execute_reply": "2023-09-02T15:37:55.586640Z",
          "shell.execute_reply.started": "2023-09-02T15:11:53.380615Z"
        },
        "id": "F8AnUsT5YXgG"
      },
      "outputs": [],
      "source": [
        "# train the model\n",
        "epochs = 20\n",
        "batch_size = 32\n",
        "steps = len(train) // batch_size\n",
        "\n",
        "for i in range(epochs):\n",
        "    # create data generator\n",
        "    generator = data_generator(train, mapping, features, tokenizer, max_length, vocab_size, batch_size)\n",
        "    # fit for one epoch\n",
        "    model.fit(generator, epochs=1, steps_per_epoch=steps, verbose=1)"
      ]
    },
    {
      "cell_type": "markdown",
      "metadata": {
        "id": "Znj4ZBVrYXgH"
      },
      "source": [
        "# Generate Captions for the Image"
      ]
    },
    {
      "cell_type": "code",
      "execution_count": null,
      "metadata": {
        "execution": {
          "iopub.execute_input": "2023-09-02T15:38:31.488756Z",
          "iopub.status.busy": "2023-09-02T15:38:31.488365Z",
          "iopub.status.idle": "2023-09-02T15:38:31.495992Z",
          "shell.execute_reply": "2023-09-02T15:38:31.494712Z",
          "shell.execute_reply.started": "2023-09-02T15:38:31.488725Z"
        },
        "id": "5LQ-SRDwYXgH"
      },
      "outputs": [],
      "source": [
        "def idx_to_word(integer, tokenizer):\n",
        "    for word, index in tokenizer.word_index.items():\n",
        "        if index == integer:\n",
        "            return word\n",
        "    return None"
      ]
    },
    {
      "cell_type": "code",
      "execution_count": null,
      "metadata": {
        "execution": {
          "iopub.execute_input": "2023-09-02T15:38:32.562678Z",
          "iopub.status.busy": "2023-09-02T15:38:32.561319Z",
          "iopub.status.idle": "2023-09-02T15:38:32.570051Z",
          "shell.execute_reply": "2023-09-02T15:38:32.568972Z",
          "shell.execute_reply.started": "2023-09-02T15:38:32.562635Z"
        },
        "id": "QJotyUjPYXgH"
      },
      "outputs": [],
      "source": [
        "# generate caption for an image\n",
        "def predict_caption(model, image, tokenizer, max_length):\n",
        "    # add start tag for generation process\n",
        "    in_text = 'startseq'\n",
        "    # iterate over the max length of sequence\n",
        "    for i in range(max_length):\n",
        "        # encode input sequence\n",
        "        sequence = tokenizer.texts_to_sequences([in_text])[0]\n",
        "        # pad the sequence\n",
        "        sequence = pad_sequences([sequence], max_length)\n",
        "        # predict next word\n",
        "        yhat = model.predict([image, sequence], verbose=0)\n",
        "        # get index with high probability\n",
        "        yhat = np.argmax(yhat)\n",
        "        # convert index to word\n",
        "        word = idx_to_word(yhat, tokenizer)\n",
        "        # stop if word not found\n",
        "        if word is None:\n",
        "            break\n",
        "        # append word as input for generating next word\n",
        "        in_text += \" \" + word\n",
        "        # stop if we reach end tag\n",
        "        if word == 'endseq':\n",
        "            break\n",
        "\n",
        "    return in_text"
      ]
    },
    {
      "cell_type": "code",
      "execution_count": null,
      "metadata": {
        "execution": {
          "iopub.execute_input": "2023-09-02T15:38:33.709008Z",
          "iopub.status.busy": "2023-09-02T15:38:33.708649Z",
          "iopub.status.idle": "2023-09-02T15:47:12.440159Z",
          "shell.execute_reply": "2023-09-02T15:47:12.438768Z",
          "shell.execute_reply.started": "2023-09-02T15:38:33.708977Z"
        },
        "id": "YqQUeu9oYXgI"
      },
      "outputs": [],
      "source": [
        "from nltk.translate.bleu_score import corpus_bleu\n",
        "# validate with test data\n",
        "actual, predicted = list(), list()\n",
        "\n",
        "for key in tqdm(test):\n",
        "    # get actual caption\n",
        "    captions = mapping[key]\n",
        "    # predict the caption for image\n",
        "    y_pred = predict_caption(model, features[key], tokenizer, max_length)\n",
        "    # split into words\n",
        "    actual_captions = [caption.split() for caption in captions]\n",
        "    y_pred = y_pred.split()\n",
        "    # append to the list\n",
        "    actual.append(actual_captions)\n",
        "    predicted.append(y_pred)\n",
        "\n",
        "# calcuate BLEU score\n",
        "print(\"BLEU-1: %f\" % corpus_bleu(actual, predicted, weights=(1.0, 0, 0, 0)))\n",
        "print(\"BLEU-2: %f\" % corpus_bleu(actual, predicted, weights=(0.5, 0.5, 0, 0)))"
      ]
    },
    {
      "cell_type": "markdown",
      "metadata": {
        "id": "4rSvXr_wYXgI"
      },
      "source": [
        "# Visualize the Results"
      ]
    },
    {
      "cell_type": "code",
      "execution_count": null,
      "metadata": {
        "execution": {
          "iopub.execute_input": "2023-09-02T15:47:12.442711Z",
          "iopub.status.busy": "2023-09-02T15:47:12.442350Z",
          "iopub.status.idle": "2023-09-02T15:47:12.450220Z",
          "shell.execute_reply": "2023-09-02T15:47:12.449019Z",
          "shell.execute_reply.started": "2023-09-02T15:47:12.442675Z"
        },
        "id": "cFLj34pMYXgI"
      },
      "outputs": [],
      "source": [
        "from PIL import Image\n",
        "import matplotlib.pyplot as plt\n",
        "def generate_caption(image_name):\n",
        "    # load the image\n",
        "    # image_name = \"1001773457_577c3a7d70.jpg\"\n",
        "    image_id = image_name.split('.')[0]\n",
        "    img_path = os.path.join(BASE_DIR, \"Images\", image_name)\n",
        "    image = Image.open(img_path)\n",
        "    captions = mapping[image_id]\n",
        "    print('---------------------Actual---------------------')\n",
        "    for caption in captions:\n",
        "        print(caption)\n",
        "    # predict the caption\n",
        "    y_pred = predict_caption(model, features[image_id], tokenizer, max_length)\n",
        "    print('--------------------Predicted--------------------')\n",
        "    print(y_pred)\n",
        "    plt.imshow(image)"
      ]
    },
    {
      "cell_type": "code",
      "execution_count": null,
      "metadata": {
        "execution": {
          "iopub.execute_input": "2023-09-02T15:47:12.452533Z",
          "iopub.status.busy": "2023-09-02T15:47:12.451983Z",
          "iopub.status.idle": "2023-09-02T15:47:13.497879Z",
          "shell.execute_reply": "2023-09-02T15:47:13.497048Z",
          "shell.execute_reply.started": "2023-09-02T15:47:12.452497Z"
        },
        "id": "4e3Tax20YXgJ"
      },
      "outputs": [],
      "source": [
        "generate_caption(\"1001773457_577c3a7d70.jpg\")"
      ]
    },
    {
      "cell_type": "code",
      "execution_count": null,
      "metadata": {
        "execution": {
          "iopub.execute_input": "2023-09-02T15:47:58.570673Z",
          "iopub.status.busy": "2023-09-02T15:47:58.570269Z",
          "iopub.status.idle": "2023-09-02T15:47:59.603701Z",
          "shell.execute_reply": "2023-09-02T15:47:59.600805Z",
          "shell.execute_reply.started": "2023-09-02T15:47:58.570642Z"
        },
        "id": "xfKW0eofYXgJ"
      },
      "outputs": [],
      "source": [
        "generate_caption(\"1002674143_1b742ab4b8.jpg\")"
      ]
    },
    {
      "cell_type": "code",
      "execution_count": null,
      "metadata": {
        "execution": {
          "iopub.execute_input": "2023-09-02T15:48:06.512890Z",
          "iopub.status.busy": "2023-09-02T15:48:06.512447Z",
          "iopub.status.idle": "2023-09-02T15:48:07.587880Z",
          "shell.execute_reply": "2023-09-02T15:48:07.587047Z",
          "shell.execute_reply.started": "2023-09-02T15:48:06.512855Z"
        },
        "id": "H2Lg7SJ-YXgJ"
      },
      "outputs": [],
      "source": [
        "generate_caption(\"101669240_b2d3e7f17b.jpg\")"
      ]
    },
    {
      "cell_type": "markdown",
      "metadata": {
        "id": "bKZx984BYXgL"
      },
      "source": [
        "# Test with Real Image"
      ]
    },
    {
      "cell_type": "code",
      "execution_count": null,
      "metadata": {
        "execution": {
          "iopub.execute_input": "2023-09-02T15:48:21.069529Z",
          "iopub.status.busy": "2023-09-02T15:48:21.069155Z",
          "iopub.status.idle": "2023-09-02T15:48:24.235132Z",
          "shell.execute_reply": "2023-09-02T15:48:24.234119Z",
          "shell.execute_reply.started": "2023-09-02T15:48:21.069497Z"
        },
        "id": "moCgZZlmYXgM"
      },
      "outputs": [],
      "source": [
        "vgg_model = VGG16()\n",
        "# restructure the model\n",
        "vgg_model = Model(inputs=vgg_model.inputs, outputs=vgg_model.layers[-2].output)"
      ]
    },
    {
      "cell_type": "code",
      "execution_count": null,
      "metadata": {
        "execution": {
          "iopub.execute_input": "2023-09-02T15:48:27.387496Z",
          "iopub.status.busy": "2023-09-02T15:48:27.386774Z",
          "iopub.status.idle": "2023-09-02T15:48:28.399842Z",
          "shell.execute_reply": "2023-09-02T15:48:28.398884Z",
          "shell.execute_reply.started": "2023-09-02T15:48:27.387451Z"
        },
        "id": "JBm8aNdrYXgM"
      },
      "outputs": [],
      "source": [
        "image_path = 'C:/Users/pavan/Downloads/image_caption_generator-main/Images/1000268201_693b08cb0e.jpg'\n",
        "# load image\n",
        "image = load_img(image_path, target_size=(224, 224))\n",
        "# convert image pixels to numpy array\n",
        "image = img_to_array(image)\n",
        "# reshape data for model\n",
        "image = image.reshape((1, image.shape[0], image.shape[1], image.shape[2]))\n",
        "# preprocess image for vgg\n",
        "image = preprocess_input(image)\n",
        "# extract features\n",
        "feature = vgg_model.predict(image, verbose=0)\n",
        "# predict from the trained model\n",
        "predict_caption(model, feature, tokenizer, max_length)"
      ]
    },
    {
      "cell_type": "code",
      "execution_count": null,
      "metadata": {
        "id": "piRt8AftYXgM"
      },
      "outputs": [],
      "source": []
    }
  ],
  "metadata": {
    "kernelspec": {
      "display_name": "Python 3",
      "language": "python",
      "name": "python3"
    },
    "language_info": {
      "codemirror_mode": {
        "name": "ipython",
        "version": 3
      },
      "file_extension": ".py",
      "mimetype": "text/x-python",
      "name": "python",
      "nbconvert_exporter": "python",
      "pygments_lexer": "ipython3",
      "version": "3.8.8"
    },
    "colab": {
      "provenance": [],
      "include_colab_link": true
    }
  },
  "nbformat": 4,
  "nbformat_minor": 0
}